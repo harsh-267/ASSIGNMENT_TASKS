{
 "cells": [
  {
   "cell_type": "code",
   "execution_count": 2,
   "id": "25c438fa-d8ef-4beb-b521-be879b13d446",
   "metadata": {},
   "outputs": [],
   "source": [
    "import pandas as pd\n",
    "import numpy as np\n",
    "import matplotlib.pyplot as plt\n",
    "import seaborn as sns\n",
    "from datetime import datetime\n",
    "import pytz"
   ]
  },
  {
   "cell_type": "code",
   "execution_count": 3,
   "id": "0b70793d-a541-42d6-abf8-9b503b349d75",
   "metadata": {},
   "outputs": [],
   "source": [
    "df = pd.read_csv(\"Play Store Data.csv\")\n"
   ]
  },
  {
   "cell_type": "code",
   "execution_count": 4,
   "id": "de3862e9-faac-4885-892a-33f5f8eab825",
   "metadata": {},
   "outputs": [],
   "source": [
    "def parse_reviews(value):\n",
    "    if isinstance(value, str):\n",
    "        value = value.strip()\n",
    "        if 'M' in value:\n",
    "            return int(float(value.replace('M', '')) * 1_000_000)\n",
    "        elif 'K' in value:\n",
    "            return int(float(value.replace('K', '')) * 1_000)\n",
    "        elif value.isnumeric():\n",
    "            return int(value)\n",
    "    return np.nan\n",
    "\n",
    "df['Parsed_Reviews'] = df['Reviews'].apply(parse_reviews)"
   ]
  },
  {
   "cell_type": "code",
   "execution_count": 5,
   "id": "8098f3ea-b85f-4112-b54b-39be2362ce05",
   "metadata": {},
   "outputs": [],
   "source": [
    "df_filtered = df[\n",
    "    (~df['App'].str.lower().str.startswith(('x', 'y', 'z'))) &\n",
    "    (~df['App'].str.lower().str.contains('s')) &\n",
    "    (df['Category'].str.startswith(('E', 'C', 'B'))) &\n",
    "    (df['Parsed_Reviews'] > 500)\n",
    "].copy()\n"
   ]
  },
  {
   "cell_type": "code",
   "execution_count": 6,
   "id": "01365ffc-b855-4d40-8562-211a10f6b53a",
   "metadata": {},
   "outputs": [],
   "source": [
    "df_filtered['Installs'] = df_filtered['Installs'].str.replace('[+,]', '', regex=True)\n",
    "df_filtered = df_filtered[df_filtered['Installs'].str.isnumeric()]\n",
    "df_filtered['Installs'] = df_filtered['Installs'].astype(int)\n",
    "\n",
    "df_filtered['Last Updated'] = pd.to_datetime(df_filtered['Last Updated'], errors='coerce')\n",
    "df_filtered['Month'] = df_filtered['Last Updated'].dt.to_period('M')\n"
   ]
  },
  {
   "cell_type": "code",
   "execution_count": 7,
   "id": "d41ee839-cb08-4aa3-a305-b0851762155d",
   "metadata": {},
   "outputs": [],
   "source": [
    "translation = {\n",
    "    'Beauty': 'सौंदर्य',        # Hindi\n",
    "    'Business': 'வணிகம்',      # Tamil\n",
    "    'Dating': 'Partnersuche'   # German\n",
    "}\n",
    "df_filtered['Category'] = df_filtered['Category'].replace(translation)\n"
   ]
  },
  {
   "cell_type": "code",
   "execution_count": 8,
   "id": "128ac6ed-2d30-4b5e-b6b5-b12b12f94350",
   "metadata": {},
   "outputs": [],
   "source": [
    "grouped = df_filtered.groupby(['Month', 'Category'])['Installs'].sum().reset_index()\n",
    "grouped['Month'] = grouped['Month'].dt.to_timestamp()\n",
    "grouped['Pct_Change'] = grouped.groupby('Category')['Installs'].pct_change()\n",
    "\n",
    "now_utc = datetime.utcnow().replace(tzinfo=pytz.utc)\n",
    "now_ist = now_utc.astimezone(pytz.timezone('Asia/Kolkata'))\n"
   ]
  },
  {
   "cell_type": "code",
   "execution_count": 12,
   "id": "38e80452-6ceb-4230-b8b4-ec85a08ea635",
   "metadata": {},
   "outputs": [
    {
     "name": "stdout",
     "output_type": "stream",
     "text": [
      "This graph is only visible between 6 PM and 9 PM IST.\n"
     ]
    }
   ],
   "source": [
    "if 18 <= now_ist.hour < 21:\n",
    "    sns.set(style=\"whitegrid\")\n",
    "    plt.figure(figsize=(14, 8))\n",
    "\n",
    "    for cat in grouped['Category'].unique():\n",
    "        cat_data = grouped[grouped['Category'] == cat]\n",
    "        plt.plot(cat_data['Month'], cat_data['Installs'], label=cat)\n",
    "\n",
    "        growth = cat_data[cat_data['Pct_Change'] > 0.2]\n",
    "        plt.fill_between(growth['Month'], 0, growth['Installs'], alpha=0.3)\n",
    "\n",
    "    plt.title(\"Monthly Install Trends by Category (20%+ Growth Highlighted)\")\n",
    "    plt.xlabel(\"Month\")\n",
    "    plt.ylabel(\"Total Installs\")\n",
    "    plt.xticks(rotation=45)\n",
    "    plt.legend(title=\"App Category\")\n",
    "    plt.tight_layout()\n",
    "    plt.grid(True)\n",
    "    plt.show()\n",
    "else:\n",
    "    print(\"This graph is only visible between 6 PM and 9 PM IST.\")\n"
   ]
  },
  {
   "cell_type": "code",
   "execution_count": null,
   "id": "d415908a-aca6-48f7-8d06-521ebd001b63",
   "metadata": {},
   "outputs": [],
   "source": []
  }
 ],
 "metadata": {
  "kernelspec": {
   "display_name": "Python 3 (ipykernel)",
   "language": "python",
   "name": "python3"
  },
  "language_info": {
   "codemirror_mode": {
    "name": "ipython",
    "version": 3
   },
   "file_extension": ".py",
   "mimetype": "text/x-python",
   "name": "python",
   "nbconvert_exporter": "python",
   "pygments_lexer": "ipython3",
   "version": "3.11.7"
  }
 },
 "nbformat": 4,
 "nbformat_minor": 5
}
